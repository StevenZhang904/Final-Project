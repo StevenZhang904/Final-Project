{
  "nbformat": 4,
  "nbformat_minor": 0,
  "metadata": {
    "colab": {
      "name": "ECON3382datacleaning.ipynb",
      "provenance": [],
      "machine_shape": "hm",
      "include_colab_link": true
    },
    "kernelspec": {
      "name": "python3",
      "display_name": "Python 3"
    },
    "language_info": {
      "name": "python"
    }
  },
  "cells": [
    {
      "cell_type": "markdown",
      "metadata": {
        "id": "view-in-github",
        "colab_type": "text"
      },
      "source": [
        "<a href=\"https://colab.research.google.com/github/StevenZhang904/Final-Project/blob/master/ECON3382datacleaning.ipynb\" target=\"_parent\"><img src=\"https://colab.research.google.com/assets/colab-badge.svg\" alt=\"Open In Colab\"/></a>"
      ]
    },
    {
      "cell_type": "code",
      "metadata": {
        "colab": {
          "base_uri": "https://localhost:8080/"
        },
        "id": "Kjm9KflC4JPy",
        "outputId": "891db49f-6e47-4ce5-c1d8-3443c34485d3"
      },
      "source": [
        "from psutil import virtual_memory\n",
        "ram_gb = virtual_memory().total / 1e9\n",
        "print('Your runtime has {:.1f} gigabytes of available RAM\\n'.format(ram_gb))\n",
        "\n",
        "if ram_gb < 20:\n",
        "  print('Not using a high-RAM runtime')\n",
        "else:\n",
        "  print('You are using a high-RAM runtime!')"
      ],
      "execution_count": null,
      "outputs": [
        {
          "output_type": "stream",
          "name": "stdout",
          "text": [
            "Your runtime has 27.3 gigabytes of available RAM\n",
            "\n",
            "You are using a high-RAM runtime!\n"
          ]
        }
      ]
    },
    {
      "cell_type": "code",
      "metadata": {
        "id": "Vn9wuTyn4W1V"
      },
      "source": [
        "import numpy as np\n",
        "import pandas as pd\n",
        "import requests\n",
        "import json"
      ],
      "execution_count": 3,
      "outputs": []
    },
    {
      "cell_type": "code",
      "metadata": {
        "colab": {
          "base_uri": "https://localhost:8080/"
        },
        "id": "jRuEpN9W4qpD",
        "outputId": "55b871ca-cc67-479d-d36a-e97643c33c95"
      },
      "source": [
        "\n",
        "blockNum = 100000\n",
        "r = requests.get( 'https://blockchain.info/block-height/'+str(blockNum)+'?format-json')\n",
        "block = r.json()\n",
        "print (block)"
      ],
      "execution_count": 20,
      "outputs": [
        {
          "output_type": "stream",
          "name": "stdout",
          "text": [
            "{'blocks': [{'hash': '000000000003ba27aa200b1cecaad478d2b00432346c3f1f3986da1afd33e506', 'ver': 1, 'prev_block': '000000000002d01c1fccc21636b607dfd930d31d01c3a62104612a1719011250', 'mrkl_root': 'f3e94742aca4b5ef85488dc37c06c3282295ffec960994b2c0d5ac2a25a95766', 'time': 1293623863, 'bits': 453281356, 'next_block': ['00000000000080b66c911bd5ba14a74260057311eaeb1982802f7010f1a9f090'], 'fee': 0, 'nonce': 274148111, 'n_tx': 4, 'size': 957, 'block_index': 100000, 'main_chain': True, 'height': 100000, 'weight': 3828, 'tx': [{'hash': '8c14f0db3df150123e6f3dbbf30f8b955a8249b62ac1d1ff16284aefa3d06d87', 'ver': 1, 'vin_sz': 1, 'vout_sz': 1, 'size': 135, 'weight': 540, 'fee': 0, 'relayed_by': '0.0.0.0', 'lock_time': 0, 'tx_index': 4764983090866501, 'double_spend': False, 'time': 1293623863, 'block_index': 100000, 'block_height': 100000, 'inputs': [{'sequence': 4294967295, 'witness': '', 'script': '044c86041b020602', 'index': 0, 'prev_out': None}], 'out': [{'type': 0, 'spent': True, 'value': 5000000000, 'spending_outpoints': [{'tx_index': 361809204724102, 'n': 12}], 'n': 0, 'tx_index': 4764983090866501, 'script': '41041b0e8c2567c12536aa13357b79a073dc4444acb83c4ec7a0e2f99dd7457516c5817242da796924ca4e99947d087fedf9ce467cb9f7c6287078f801df276fdf84ac', 'addr': '1HWqMzw1jfpXb3xyuUZ4uWXY4tqL2cW47J'}]}, {'hash': 'fff2525b8931402dd09222c50775608f75787bd2b87e56995a7bdd30f79702c4', 'ver': 1, 'vin_sz': 1, 'vout_sz': 2, 'size': 259, 'weight': 1036, 'fee': 0, 'relayed_by': '0.0.0.0', 'lock_time': 0, 'tx_index': 6896493393222575, 'double_spend': False, 'time': 1293623863, 'block_index': 100000, 'block_height': 100000, 'inputs': [{'sequence': 4294967295, 'witness': '', 'script': '493046022100c352d3dd993a981beba4a63ad15c209275ca9470abfcd57da93b58e4eb5dce82022100840792bc1f456062819f15d33ee7055cf7b5ee1af1ebcc6028d9cdb1c3af7748014104f46db5e9d61a9dc27b8d64ad23e7383a4e6ca164593c2527c038c0857eb67ee8e825dca65046b82c9331586c82e0fd1f633f25f87c161bc6f8a630121df2b3d3', 'index': 0, 'prev_out': {'spent': True, 'script': '76a91471d7dd96d9edda09180fe9d57a477b5acc9cad1188ac', 'spending_outpoints': [{'tx_index': 6896493393222575, 'n': 0}], 'tx_index': 111905863111945, 'value': 5000000000, 'addr': '1BNwxHGaFbeUBitpjy2AsKpJ29Ybxntqvb', 'n': 0, 'type': 0}}], 'out': [{'type': 0, 'spent': True, 'value': 556000000, 'spending_outpoints': [{'tx_index': 316661668806251, 'n': 6}], 'n': 0, 'tx_index': 6896493393222575, 'script': '76a914c398efa9c392ba6013c5e04ee729755ef7f58b3288ac', 'addr': '1JqDybm2nWTENrHvMyafbSXXtTk5Uv5QAn'}, {'type': 0, 'spent': True, 'value': 4444000000, 'spending_outpoints': [{'tx_index': 4322279565170935, 'n': 0}], 'n': 1, 'tx_index': 6896493393222575, 'script': '76a914948c765a6914d43f2a7ac177da2c2f6b52de3d7c88ac', 'addr': '1EYTGtG4LnFfiMvjJdsU7GMGCQvsRSjYhx'}]}, {'hash': '6359f0868171b1d194cbee1af2f16ea598ae8fad666d9b012c8ed2b79a236ec4', 'ver': 1, 'vin_sz': 1, 'vout_sz': 2, 'size': 257, 'weight': 1028, 'fee': 0, 'relayed_by': '0.0.0.0', 'lock_time': 0, 'tx_index': 6911274329242193, 'double_spend': False, 'time': 1293623863, 'block_index': 100000, 'block_height': 100000, 'inputs': [{'sequence': 4294967295, 'witness': '', 'script': '4730440220032d30df5ee6f57fa46cddb5eb8d0d9fe8de6b342d27942ae90a3231e0ba333e02203deee8060fdc70230a7f5b4ad7d7bc3e628cbe219a886b84269eaeb81e26b4fe014104ae31c31bf91278d99b8377a35bbce5b27d9fff15456839e919453fc7b3f721f0ba403ff96c9deeb680e5fd341c0fc3a7b90da4631ee39560639db462e9cb850f', 'index': 0, 'prev_out': {'spent': True, 'script': '76a91435fbee6a3bf8d99f17724ec54787567393a8a6b188ac', 'spending_outpoints': [{'tx_index': 6911274329242193, 'n': 0}], 'tx_index': 6869576823660862, 'value': 300000000, 'addr': '15vScfMHNrXN4QvWe54q5hwfVoYwG79CS1', 'n': 1, 'type': 0}}], 'out': [{'type': 0, 'spent': True, 'value': 1000000, 'spending_outpoints': [{'tx_index': 6045480298074860, 'n': 0}], 'n': 0, 'tx_index': 6911274329242193, 'script': '76a914b0dcbf97eabf4404e31d952477ce822dadbe7e1088ac', 'addr': '1H8ANdafjpqYntniT3Ddxh4xPBMCSz33pj'}, {'type': 0, 'spent': True, 'value': 299000000, 'spending_outpoints': [{'tx_index': 5079089434709136, 'n': 3}], 'n': 1, 'tx_index': 6911274329242193, 'script': '76a9146b1281eec25ab4e1e0793ff4e08ab1abb3409cd988ac', 'addr': '1Am9UTGfdnxabvcywYG2hvzr6qK8T3oUZT'}]}, {'hash': 'e9a66845e05d5abc0ad04ec80f774a7e585c6e8db975962d069a522137b80c1d', 'ver': 1, 'vin_sz': 1, 'vout_sz': 1, 'size': 225, 'weight': 900, 'fee': 0, 'relayed_by': '0.0.0.0', 'lock_time': 0, 'tx_index': 1022094957881939, 'double_spend': False, 'time': 1293623863, 'block_index': 100000, 'block_height': 100000, 'inputs': [{'sequence': 4294967295, 'witness': '', 'script': '493046022100bb1ad26df930a51cce110cf44f7a48c3c561fd977500b1ae5d6b6fd13d0b3f4a022100c5b42951acedff14abba2736fd574bdb465f3e6f8da12e2c5303954aca7f78f3014104a7135bfe824c97ecc01ec7d7e336185c81e2aa2c41ab175407c09484ce9694b44953fcb751206564a9c24dd094d42fdbfdd5aad3e063ce6af4cfaaea4ea14fbb', 'index': 0, 'prev_out': {'spent': True, 'script': '76a914c4eb47ecfdcf609a1848ee79acc2fa49d3caad7088ac', 'spending_outpoints': [{'tx_index': 1022094957881939, 'n': 0}], 'tx_index': 400283812289172, 'value': 1000000, 'addr': '1JxDJCyWNakZ5kECKdCU9Zka6mh34mZ7B2', 'n': 0, 'type': 0}}], 'out': [{'type': 0, 'spent': True, 'value': 1000000, 'spending_outpoints': [{'tx_index': 8813041396168336, 'n': 1}], 'n': 0, 'tx_index': 1022094957881939, 'script': '76a91439aa3d569e06a1d7926dc4be1193c99bf2eb9ee088ac', 'addr': '16FuTPaeRSPVxxCnwQmdyx2PQWxX6HWzhQ'}]}]}]}\n"
          ]
        }
      ]
    },
    {
      "cell_type": "code",
      "metadata": {
        "colab": {
          "base_uri": "https://localhost:8080/",
          "height": 394
        },
        "id": "C-IX8BLL6Wmg",
        "outputId": "21493720-85fb-4650-cce8-eca7201db8a8"
      },
      "source": [
        "dataDF = pd.json_normalize(block, record_path= [\"blocks\"])\n",
        "txs = pd.json_normalize(dataDF[\"tx\"][0])\n",
        "txs\n",
        "#\\inputAddresses = pd.json_normalize(txs)\n",
        "#inputAddresses"
      ],
      "execution_count": 32,
      "outputs": [
        {
          "output_type": "execute_result",
          "data": {
            "text/html": [
              "<div>\n",
              "<style scoped>\n",
              "    .dataframe tbody tr th:only-of-type {\n",
              "        vertical-align: middle;\n",
              "    }\n",
              "\n",
              "    .dataframe tbody tr th {\n",
              "        vertical-align: top;\n",
              "    }\n",
              "\n",
              "    .dataframe thead th {\n",
              "        text-align: right;\n",
              "    }\n",
              "</style>\n",
              "<table border=\"1\" class=\"dataframe\">\n",
              "  <thead>\n",
              "    <tr style=\"text-align: right;\">\n",
              "      <th></th>\n",
              "      <th>hash</th>\n",
              "      <th>ver</th>\n",
              "      <th>vin_sz</th>\n",
              "      <th>vout_sz</th>\n",
              "      <th>size</th>\n",
              "      <th>weight</th>\n",
              "      <th>fee</th>\n",
              "      <th>relayed_by</th>\n",
              "      <th>lock_time</th>\n",
              "      <th>tx_index</th>\n",
              "      <th>double_spend</th>\n",
              "      <th>time</th>\n",
              "      <th>block_index</th>\n",
              "      <th>block_height</th>\n",
              "      <th>inputs</th>\n",
              "      <th>out</th>\n",
              "    </tr>\n",
              "  </thead>\n",
              "  <tbody>\n",
              "    <tr>\n",
              "      <th>0</th>\n",
              "      <td>8c14f0db3df150123e6f3dbbf30f8b955a8249b62ac1d1...</td>\n",
              "      <td>1</td>\n",
              "      <td>1</td>\n",
              "      <td>1</td>\n",
              "      <td>135</td>\n",
              "      <td>540</td>\n",
              "      <td>0</td>\n",
              "      <td>0.0.0.0</td>\n",
              "      <td>0</td>\n",
              "      <td>4764983090866501</td>\n",
              "      <td>False</td>\n",
              "      <td>1293623863</td>\n",
              "      <td>100000</td>\n",
              "      <td>100000</td>\n",
              "      <td>[{'sequence': 4294967295, 'witness': '', 'scri...</td>\n",
              "      <td>[{'type': 0, 'spent': True, 'value': 500000000...</td>\n",
              "    </tr>\n",
              "    <tr>\n",
              "      <th>1</th>\n",
              "      <td>fff2525b8931402dd09222c50775608f75787bd2b87e56...</td>\n",
              "      <td>1</td>\n",
              "      <td>1</td>\n",
              "      <td>2</td>\n",
              "      <td>259</td>\n",
              "      <td>1036</td>\n",
              "      <td>0</td>\n",
              "      <td>0.0.0.0</td>\n",
              "      <td>0</td>\n",
              "      <td>6896493393222575</td>\n",
              "      <td>False</td>\n",
              "      <td>1293623863</td>\n",
              "      <td>100000</td>\n",
              "      <td>100000</td>\n",
              "      <td>[{'sequence': 4294967295, 'witness': '', 'scri...</td>\n",
              "      <td>[{'type': 0, 'spent': True, 'value': 556000000...</td>\n",
              "    </tr>\n",
              "    <tr>\n",
              "      <th>2</th>\n",
              "      <td>6359f0868171b1d194cbee1af2f16ea598ae8fad666d9b...</td>\n",
              "      <td>1</td>\n",
              "      <td>1</td>\n",
              "      <td>2</td>\n",
              "      <td>257</td>\n",
              "      <td>1028</td>\n",
              "      <td>0</td>\n",
              "      <td>0.0.0.0</td>\n",
              "      <td>0</td>\n",
              "      <td>6911274329242193</td>\n",
              "      <td>False</td>\n",
              "      <td>1293623863</td>\n",
              "      <td>100000</td>\n",
              "      <td>100000</td>\n",
              "      <td>[{'sequence': 4294967295, 'witness': '', 'scri...</td>\n",
              "      <td>[{'type': 0, 'spent': True, 'value': 1000000, ...</td>\n",
              "    </tr>\n",
              "    <tr>\n",
              "      <th>3</th>\n",
              "      <td>e9a66845e05d5abc0ad04ec80f774a7e585c6e8db97596...</td>\n",
              "      <td>1</td>\n",
              "      <td>1</td>\n",
              "      <td>1</td>\n",
              "      <td>225</td>\n",
              "      <td>900</td>\n",
              "      <td>0</td>\n",
              "      <td>0.0.0.0</td>\n",
              "      <td>0</td>\n",
              "      <td>1022094957881939</td>\n",
              "      <td>False</td>\n",
              "      <td>1293623863</td>\n",
              "      <td>100000</td>\n",
              "      <td>100000</td>\n",
              "      <td>[{'sequence': 4294967295, 'witness': '', 'scri...</td>\n",
              "      <td>[{'type': 0, 'spent': True, 'value': 1000000, ...</td>\n",
              "    </tr>\n",
              "  </tbody>\n",
              "</table>\n",
              "</div>"
            ],
            "text/plain": [
              "                                                hash  ...                                                out\n",
              "0  8c14f0db3df150123e6f3dbbf30f8b955a8249b62ac1d1...  ...  [{'type': 0, 'spent': True, 'value': 500000000...\n",
              "1  fff2525b8931402dd09222c50775608f75787bd2b87e56...  ...  [{'type': 0, 'spent': True, 'value': 556000000...\n",
              "2  6359f0868171b1d194cbee1af2f16ea598ae8fad666d9b...  ...  [{'type': 0, 'spent': True, 'value': 1000000, ...\n",
              "3  e9a66845e05d5abc0ad04ec80f774a7e585c6e8db97596...  ...  [{'type': 0, 'spent': True, 'value': 1000000, ...\n",
              "\n",
              "[4 rows x 16 columns]"
            ]
          },
          "metadata": {},
          "execution_count": 32
        }
      ]
    },
    {
      "cell_type": "code",
      "metadata": {
        "colab": {
          "base_uri": "https://localhost:8080/",
          "height": 117
        },
        "id": "m1kI4Rkryijz",
        "outputId": "3932d234-f4f6-4799-e749-87dbcca9f4a8"
      },
      "source": [
        "dataDF"
      ],
      "execution_count": 56,
      "outputs": [
        {
          "output_type": "execute_result",
          "data": {
            "text/html": [
              "<div>\n",
              "<style scoped>\n",
              "    .dataframe tbody tr th:only-of-type {\n",
              "        vertical-align: middle;\n",
              "    }\n",
              "\n",
              "    .dataframe tbody tr th {\n",
              "        vertical-align: top;\n",
              "    }\n",
              "\n",
              "    .dataframe thead th {\n",
              "        text-align: right;\n",
              "    }\n",
              "</style>\n",
              "<table border=\"1\" class=\"dataframe\">\n",
              "  <thead>\n",
              "    <tr style=\"text-align: right;\">\n",
              "      <th></th>\n",
              "      <th>hash</th>\n",
              "      <th>ver</th>\n",
              "      <th>prev_block</th>\n",
              "      <th>mrkl_root</th>\n",
              "      <th>time</th>\n",
              "      <th>bits</th>\n",
              "      <th>next_block</th>\n",
              "      <th>fee</th>\n",
              "      <th>nonce</th>\n",
              "      <th>n_tx</th>\n",
              "      <th>size</th>\n",
              "      <th>block_index</th>\n",
              "      <th>main_chain</th>\n",
              "      <th>height</th>\n",
              "      <th>weight</th>\n",
              "      <th>tx</th>\n",
              "    </tr>\n",
              "  </thead>\n",
              "  <tbody>\n",
              "    <tr>\n",
              "      <th>0</th>\n",
              "      <td>000000000003ba27aa200b1cecaad478d2b00432346c3f...</td>\n",
              "      <td>1</td>\n",
              "      <td>000000000002d01c1fccc21636b607dfd930d31d01c3a6...</td>\n",
              "      <td>f3e94742aca4b5ef85488dc37c06c3282295ffec960994...</td>\n",
              "      <td>1293623863</td>\n",
              "      <td>453281356</td>\n",
              "      <td>[00000000000080b66c911bd5ba14a74260057311eaeb1...</td>\n",
              "      <td>0</td>\n",
              "      <td>274148111</td>\n",
              "      <td>4</td>\n",
              "      <td>957</td>\n",
              "      <td>100000</td>\n",
              "      <td>True</td>\n",
              "      <td>100000</td>\n",
              "      <td>3828</td>\n",
              "      <td>[{'hash': '8c14f0db3df150123e6f3dbbf30f8b955a8...</td>\n",
              "    </tr>\n",
              "  </tbody>\n",
              "</table>\n",
              "</div>"
            ],
            "text/plain": [
              "                                                hash  ...                                                 tx\n",
              "0  000000000003ba27aa200b1cecaad478d2b00432346c3f...  ...  [{'hash': '8c14f0db3df150123e6f3dbbf30f8b955a8...\n",
              "\n",
              "[1 rows x 16 columns]"
            ]
          },
          "metadata": {},
          "execution_count": 56
        }
      ]
    },
    {
      "cell_type": "code",
      "metadata": {
        "colab": {
          "base_uri": "https://localhost:8080/"
        },
        "id": "LdgniWFpsEbk",
        "outputId": "c7149c19-723e-41c3-8350-5194c1eb347a"
      },
      "source": [
        "a= pd.DataFrame(txs,columns=['inputs','out'])\n",
        "a[\"inputs\"][]\n"
      ],
      "execution_count": 85,
      "outputs": [
        {
          "output_type": "execute_result",
          "data": {
            "text/plain": [
              "0    [{'sequence': 4294967295, 'witness': '', 'scri...\n",
              "1    [{'sequence': 4294967295, 'witness': '', 'scri...\n",
              "2    [{'sequence': 4294967295, 'witness': '', 'scri...\n",
              "3    [{'sequence': 4294967295, 'witness': '', 'scri...\n",
              "Name: inputs, dtype: object"
            ]
          },
          "metadata": {},
          "execution_count": 85
        }
      ]
    },
    {
      "cell_type": "code",
      "metadata": {
        "colab": {
          "base_uri": "https://localhost:8080/",
          "height": 198
        },
        "id": "Qovy0hHDtjYO",
        "outputId": "96b4d174-75d3-4e09-f0f5-b65c9b3511cc"
      },
      "source": [
        "b = pd.json_normalize(a[\"out\"][1])\n",
        "b"
      ],
      "execution_count": 132,
      "outputs": [
        {
          "output_type": "execute_result",
          "data": {
            "text/html": [
              "<div>\n",
              "<style scoped>\n",
              "    .dataframe tbody tr th:only-of-type {\n",
              "        vertical-align: middle;\n",
              "    }\n",
              "\n",
              "    .dataframe tbody tr th {\n",
              "        vertical-align: top;\n",
              "    }\n",
              "\n",
              "    .dataframe thead th {\n",
              "        text-align: right;\n",
              "    }\n",
              "</style>\n",
              "<table border=\"1\" class=\"dataframe\">\n",
              "  <thead>\n",
              "    <tr style=\"text-align: right;\">\n",
              "      <th></th>\n",
              "      <th>type</th>\n",
              "      <th>spent</th>\n",
              "      <th>value</th>\n",
              "      <th>spending_outpoints</th>\n",
              "      <th>n</th>\n",
              "      <th>tx_index</th>\n",
              "      <th>script</th>\n",
              "      <th>addr</th>\n",
              "    </tr>\n",
              "  </thead>\n",
              "  <tbody>\n",
              "    <tr>\n",
              "      <th>0</th>\n",
              "      <td>0</td>\n",
              "      <td>True</td>\n",
              "      <td>556000000</td>\n",
              "      <td>[{'tx_index': 316661668806251, 'n': 6}]</td>\n",
              "      <td>0</td>\n",
              "      <td>6896493393222575</td>\n",
              "      <td>76a914c398efa9c392ba6013c5e04ee729755ef7f58b32...</td>\n",
              "      <td>1JqDybm2nWTENrHvMyafbSXXtTk5Uv5QAn</td>\n",
              "    </tr>\n",
              "    <tr>\n",
              "      <th>1</th>\n",
              "      <td>0</td>\n",
              "      <td>True</td>\n",
              "      <td>4444000000</td>\n",
              "      <td>[{'tx_index': 4322279565170935, 'n': 0}]</td>\n",
              "      <td>1</td>\n",
              "      <td>6896493393222575</td>\n",
              "      <td>76a914948c765a6914d43f2a7ac177da2c2f6b52de3d7c...</td>\n",
              "      <td>1EYTGtG4LnFfiMvjJdsU7GMGCQvsRSjYhx</td>\n",
              "    </tr>\n",
              "  </tbody>\n",
              "</table>\n",
              "</div>"
            ],
            "text/plain": [
              "   type  ...                                addr\n",
              "0     0  ...  1JqDybm2nWTENrHvMyafbSXXtTk5Uv5QAn\n",
              "1     0  ...  1EYTGtG4LnFfiMvjJdsU7GMGCQvsRSjYhx\n",
              "\n",
              "[2 rows x 8 columns]"
            ]
          },
          "metadata": {},
          "execution_count": 132
        }
      ]
    },
    {
      "cell_type": "code",
      "metadata": {
        "id": "SGQi7Xfc-rCw"
      },
      "source": [
        "def getBlock(blockNum):\n",
        "  r = requests.get( 'https://blockchain.info/block-height/'+str(blockNum)+'?format-json')\n",
        "  block = r.json()\n",
        "  return block"
      ],
      "execution_count": 63,
      "outputs": []
    },
    {
      "cell_type": "code",
      "metadata": {
        "id": "-_A4l-Ox5Ju0"
      },
      "source": [
        "def parse(block):\n",
        "    inputAddresses = []\n",
        "    outputAddresses = []\n",
        "    inputValue = []\n",
        "    outputValue = []\n",
        "    timeStamp = []\n",
        "    blockNumber = []\n",
        "    dataDF = pd.json_normalize(block, record_path= [\"blocks\"])\n",
        "    txs = pd.json_normalize(dataDF[\"tx\"][0])\n",
        "    parsedTxs = pd.DataFrame(txs,columns=['inputs','out'])\n",
        "    #loop through the transactions with inputs and outputs individually\n",
        "    for x in range(1,len(parsedTxs[\"inputs\"])): \n",
        "        Input = pd.json_normalize(parsedTxs[\"inputs\"][x])\n",
        "        Output = pd.json_normalize(parsedTxs[\"out\"][x])\n",
        "        inputAddresses.append(Input[\"prev_out.addr\"])\n",
        "        inputValue.append(Input[\"prev_out.value\"])\n",
        "        outputAddresses.append(Output[\"addr\"])\n",
        "        outputValue.append(Output[\"value\"])\n",
        "        timeStamp.append(dataDF[\"time\"][0])\n",
        "        blockNumber.append(dataDF[\"height\"][0])\n",
        "    data = np.array([inputAddresses, \n",
        "                     outputAddresses, \n",
        "                     inputValue,\n",
        "                     outputValue, \n",
        "                     timeStamp, \n",
        "                     blockNumber])\n",
        "    #transpose the dataframe, switching the rows and columns\n",
        "    result = data.T\n",
        "    df = pd.DataFrame(result)\n",
        "    df.columns = [\"inputAddresses\", \n",
        "                  \"outputAddresses\", \n",
        "                  \"inputValue\", \n",
        "                  \"outputValue\", \n",
        "                  \"timeStamp\", \n",
        "                  \"blockNumber\"]\n",
        "    return df\n"
      ],
      "execution_count": 133,
      "outputs": []
    },
    {
      "cell_type": "code",
      "metadata": {
        "colab": {
          "base_uri": "https://localhost:8080/"
        },
        "id": "zWMfwNQMhjLt",
        "outputId": "039009ba-c8f7-4d02-efe3-f4dd54e4f05c"
      },
      "source": [
        "test = getBlock(100000)\n",
        "df = parse(test)\n",
        "df.to_csv(\"/ECON3382/test.csv\")"
      ],
      "execution_count": 135,
      "outputs": [
        {
          "output_type": "stream",
          "name": "stderr",
          "text": [
            "/usr/local/lib/python3.7/dist-packages/ipykernel_launcher.py:26: VisibleDeprecationWarning: Creating an ndarray from ragged nested sequences (which is a list-or-tuple of lists-or-tuples-or ndarrays with different lengths or shapes) is deprecated. If you meant to do this, you must specify 'dtype=object' when creating the ndarray\n"
          ]
        }
      ]
    },
    {
      "cell_type": "code",
      "metadata": {
        "id": "MhJ1s7s_0_NI"
      },
      "source": [
        ""
      ],
      "execution_count": 113,
      "outputs": []
    }
  ]
}